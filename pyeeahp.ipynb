{
 "cells": [
  {
   "cell_type": "code",
   "execution_count": null,
   "id": "33139808",
   "metadata": {},
   "outputs": [],
   "source": [
    "import numpy as np\n",
    "import pandas as pd"
   ]
  },
  {
   "cell_type": "code",
   "execution_count": null,
   "id": "8ca0b8c7",
   "metadata": {},
   "outputs": [],
   "source": [
    "def pairwise_matrix(n):\n",
    "    A = np.ones([n,n])\n",
    "    for i in range(0,n):\n",
    "        for j in range(0,n):\n",
    "            if i<j:\n",
    "                aij = input('How important is option {} over option {} ?: '.format(i,j))\n",
    "                A[i,j] = float(aij)\n",
    "                A[j,i] = 1/float(aij)#Computing the priority vector \n",
    "    \n",
    "    eig_val = np.linalg.eig(A)[0].max()\n",
    "    eig_vec = np.linalg.eig(A)[1][:,0]\n",
    "    p = eig_vec/eig_vec.sum()\n",
    "    return p, eig_val"
   ]
  }
 ],
 "metadata": {
  "kernelspec": {
   "display_name": "Python 3 (ipykernel)",
   "language": "python",
   "name": "python3"
  },
  "language_info": {
   "codemirror_mode": {
    "name": "ipython",
    "version": 3
   },
   "file_extension": ".py",
   "mimetype": "text/x-python",
   "name": "python",
   "nbconvert_exporter": "python",
   "pygments_lexer": "ipython3",
   "version": "3.11.3"
  }
 },
 "nbformat": 4,
 "nbformat_minor": 5
}
