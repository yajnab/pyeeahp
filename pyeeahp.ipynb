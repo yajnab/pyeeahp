{
 "cells": [
  {
   "cell_type": "code",
   "execution_count": null,
   "id": "33139808",
   "metadata": {},
   "outputs": [],
   "source": [
    "import numpy as np\n",
    "import pandas as pd"
   ]
  },
  {
   "cell_type": "code",
   "execution_count": null,
   "id": "8ca0b8c7",
   "metadata": {},
   "outputs": [],
   "source": [
    "# Number of options\n",
    "n = 3# Matrix creation\n",
    "A = np.ones([n,n])# Running a for loop to take input from user and populate the upper triangular elements\n",
    "for i in range(0,n):\n",
    "    for j in range(0,n):\n",
    "         if i<j:\n",
    "             aij = input('How important is option {} over option {} ?: '.format(i,j))\n",
    "             A[i,j] = float(aij) #Upper triangular elements\n",
    "             A[j,i] = 1/float(aij) #Lower triangular elements"
   ]
  }
 ],
 "metadata": {
  "kernelspec": {
   "display_name": "Python 3 (ipykernel)",
   "language": "python",
   "name": "python3"
  },
  "language_info": {
   "codemirror_mode": {
    "name": "ipython",
    "version": 3
   },
   "file_extension": ".py",
   "mimetype": "text/x-python",
   "name": "python",
   "nbconvert_exporter": "python",
   "pygments_lexer": "ipython3",
   "version": "3.11.3"
  }
 },
 "nbformat": 4,
 "nbformat_minor": 5
}
