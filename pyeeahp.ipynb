{
 "cells": [
  {
   "cell_type": "code",
   "execution_count": 1,
   "id": "33139808",
   "metadata": {},
   "outputs": [],
   "source": [
    "import numpy as np\n",
    "import pandas as pd"
   ]
  },
  {
   "cell_type": "code",
   "execution_count": 2,
   "id": "8ca0b8c7",
   "metadata": {},
   "outputs": [],
   "source": [
    "def pairwise_matrix(n):\n",
    "    A = np.ones([n,n])\n",
    "    for i in range(0,n):\n",
    "        for j in range(0,n):\n",
    "            if i<j:\n",
    "                aij = input('How important is option {} over option {} ?: '.format(i,j))\n",
    "                A[i,j] = float(aij)\n",
    "                A[j,i] = 1/float(aij)#Computing the priority vector \n",
    "    \n",
    "    eig_val = np.linalg.eig(A)[0].max()\n",
    "    eig_vec = np.linalg.eig(A)[1][:,0]\n",
    "    p = eig_vec/eig_vec.sum()\n",
    "    return p, eig_val"
   ]
  },
  {
   "cell_type": "code",
   "execution_count": 4,
   "id": "aa5ab9c7",
   "metadata": {},
   "outputs": [
    {
     "name": "stdout",
     "output_type": "stream",
     "text": [
      "Enter the number of Options3\n",
      "How important is option 0 over option 1 ?: 0.25\n",
      "How important is option 0 over option 2 ?: 0.5\n",
      "How important is option 1 over option 2 ?: 0.75\n"
     ]
    },
    {
     "data": {
      "text/plain": [
       "(array([0.15019651+0.j, 0.43324171+0.j, 0.41656178+0.j]),\n",
       " (3.1078473338549752+0j))"
      ]
     },
     "execution_count": 4,
     "metadata": {},
     "output_type": "execute_result"
    }
   ],
   "source": [
    "n = input(\"Enter the number of Options\")\n",
    "pairwise_matrix(int(n))"
   ]
  },
  {
   "cell_type": "code",
   "execution_count": 12,
   "id": "9af58b2e",
   "metadata": {},
   "outputs": [
    {
     "name": "stdout",
     "output_type": "stream",
     "text": [
      "How important is option 0 over option 1 ?: 0.5\n",
      "How important is option 0 over option 2 ?: 0.25\n",
      "How important is option 1 over option 2 ?: 0.75\n"
     ]
    }
   ],
   "source": [
    "pr_c, eig = pairwise_matrix(3)"
   ]
  },
  {
   "cell_type": "code",
   "execution_count": 13,
   "id": "d2514521",
   "metadata": {},
   "outputs": [
    {
     "data": {
      "text/plain": [
       "array([0.14741109+0.j, 0.33748714+0.j, 0.51510178+0.j])"
      ]
     },
     "execution_count": 13,
     "metadata": {},
     "output_type": "execute_result"
    }
   ],
   "source": [
    "pr_c0, eig0 = pairwise_matrix(3)"
   ]
  },
  {
   "cell_type": "code",
   "execution_count": 15,
   "id": "f5cd34af",
   "metadata": {},
   "outputs": [
    {
     "name": "stdout",
     "output_type": "stream",
     "text": [
      "How important is option 0 over option 1 ?: 0.1\n",
      "How important is option 0 over option 2 ?: 0.2\n",
      "How important is option 1 over option 2 ?: 0.3\n"
     ]
    }
   ],
   "source": [
    "pr_c1, eig1 = pairwise_matrix(3)"
   ]
  },
  {
   "cell_type": "code",
   "execution_count": 16,
   "id": "609cfff1",
   "metadata": {},
   "outputs": [
    {
     "name": "stdout",
     "output_type": "stream",
     "text": [
      "How important is option 0 over option 1 ?: 0.2\n",
      "How important is option 0 over option 2 ?: 0.3\n",
      "How important is option 1 over option 2 ?: 0.6\n"
     ]
    }
   ],
   "source": [
    "pr_c2, eig2 = pairwise_matrix(3)"
   ]
  },
  {
   "cell_type": "code",
   "execution_count": null,
   "id": "70c95659",
   "metadata": {},
   "outputs": [],
   "source": [
    "r = pr_c0*pr_c[0] + pr_c1*pr_c[1] + pr_c2*pr_c[2]"
   ]
  },
  {
   "cell_type": "code",
   "execution_count": null,
   "id": "7231bf2b",
   "metadata": {},
   "outputs": [],
   "source": [
    "print(r)"
   ]
  }
 ],
 "metadata": {
  "kernelspec": {
   "display_name": "Python 3 (ipykernel)",
   "language": "python",
   "name": "python3"
  },
  "language_info": {
   "codemirror_mode": {
    "name": "ipython",
    "version": 3
   },
   "file_extension": ".py",
   "mimetype": "text/x-python",
   "name": "python",
   "nbconvert_exporter": "python",
   "pygments_lexer": "ipython3",
   "version": "3.11.3"
  }
 },
 "nbformat": 4,
 "nbformat_minor": 5
}
